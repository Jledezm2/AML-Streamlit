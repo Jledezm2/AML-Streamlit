{
  "nbformat": 4,
  "nbformat_minor": 0,
  "metadata": {
    "colab": {
      "provenance": []
    },
    "kernelspec": {
      "name": "python3",
      "display_name": "Python 3"
    },
    "language_info": {
      "name": "python"
    }
  },
  "cells": [
    {
      "cell_type": "code",
      "execution_count": 19,
      "metadata": {
        "id": "wHhmn5jLaUC7"
      },
      "outputs": [],
      "source": [
        "# Import/install packages\n",
        "import numpy as np\n",
        "import pandas as pd"
      ]
    },
    {
      "cell_type": "code",
      "source": [
        "# Authenticate Google Colab and access Google Sheets\n",
        "from google.colab import auth\n",
        "auth.authenticate_user()\n",
        "import gspread\n",
        "from google.auth import default\n",
        "\n",
        "# Authorize access to Google Sheets\n",
        "creds, _ = default()\n",
        "gc = gspread.authorize(creds)\n",
        "\n",
        "# Open the Google Sheet containing betting model data\n",
        "worksheet = gc.open('Betting Model Data').sheet1\n",
        "\n",
        "# Load data from Google Sheets into a pandas DataFrame\n",
        "rows = worksheet.get_all_values()  # Get all rows from the sheet\n",
        "BetData = pd.DataFrame.from_records(rows)  # Convert rows to a DataFrame"
      ],
      "metadata": {
        "id": "WYMoFqtfacPA"
      },
      "execution_count": 20,
      "outputs": []
    },
    {
      "cell_type": "code",
      "source": [
        "# Rename columns for better readability\n",
        "BetData.columns = [\n",
        "    'Tm-A', 'Wk', 'MLodds-A', 'MLodds-H', 'SPRodds-A', 'SPRodds-H',\n",
        "    'SPRline', 'Uodds', 'Oodds', 'OUline', '%betsML-A', '%betsSPR-A',\n",
        "    '%betsOVER', 'Score-A', 'Score-H'\n",
        "]\n",
        "\n",
        "# Drop the first row (likely header data) and convert remaining columns to numeric\n",
        "BetData = BetData.drop([0])\n",
        "BetData = BetData.iloc[:, 1:].apply(pd.to_numeric)\n",
        "\n",
        "# Basic data evaluation\n",
        "print(BetData.isnull().sum())  # Check for missing values in the dataset\n",
        "print(BetData.describe(percentiles=None).T.iloc[:, [0, 1, 2, 3, 7]])  # Display summary statistics"
      ],
      "metadata": {
        "colab": {
          "base_uri": "https://localhost:8080/"
        },
        "id": "fLztBQHNbIAB",
        "outputId": "50b1ba07-b78f-47e0-e8b4-fd0dc8931f80"
      },
      "execution_count": 21,
      "outputs": [
        {
          "output_type": "stream",
          "name": "stdout",
          "text": [
            "Wk            0\n",
            "MLodds-A      0\n",
            "MLodds-H      0\n",
            "SPRodds-A     0\n",
            "SPRodds-H     0\n",
            "SPRline       0\n",
            "Uodds         0\n",
            "Oodds         0\n",
            "OUline        0\n",
            "%betsML-A     0\n",
            "%betsSPR-A    0\n",
            "%betsOVER     0\n",
            "Score-A       0\n",
            "Score-H       0\n",
            "dtype: int64\n",
            "            count        mean         std     min     max\n",
            "Wk           74.0    4.972973    1.433197    3.00    7.00\n",
            "MLodds-A     74.0   31.378378  190.623038 -425.00  390.00\n",
            "MLodds-H     74.0  -79.216216  197.194172 -520.00  330.00\n",
            "SPRodds-A    74.0 -104.621622   35.589633 -122.00  110.00\n",
            "SPRodds-H    74.0 -104.162162   34.637468 -122.00  102.00\n",
            "SPRline      74.0    3.689189    2.224864    0.50    9.50\n",
            "Uodds        74.0 -109.851351    2.513974 -120.00 -100.00\n",
            "Oodds        74.0 -109.986486    2.242145 -115.00 -100.00\n",
            "OUline       74.0   42.945946    5.608560   15.50   51.50\n",
            "%betsML-A    74.0    0.500811    0.268730    0.03    0.94\n",
            "%betsSPR-A   74.0    0.541351    0.192598    0.13    0.87\n",
            "%betsOVER    74.0    0.572432    0.135715    0.22    0.88\n",
            "Score-A      74.0   22.378378   10.437948    3.00   51.00\n",
            "Score-H      74.0   23.027027    9.527139    3.00   47.00\n"
          ]
        }
      ]
    },
    {
      "cell_type": "code",
      "source": [
        "# Add new derived features for analysis\n",
        "# 'Win-H' indicates if the home team won (1) or lost (0)\n",
        "BetData['Win-H'] = (BetData['Score-A'] < BetData['Score-H']).astype(int)\n",
        "\n",
        "# 'OverHit' checks if the combined score exceeded the over/under line\n",
        "BetData['OverHit'] = ((BetData['Score-A'] + BetData['Score-H']) > BetData['OUline']).astype(int)\n",
        "\n",
        "# Add betting percentage metrics for home teams\n",
        "BetData['Avg%Bet - H'] = 1 - (round(((BetData['%betsML-A'] + BetData['%betsSPR-A']) / 2), 2))\n",
        "BetData['%betsML-H'] = 1 - BetData['%betsML-A']\n",
        "BetData['%betsSPR-H'] = 1 - BetData['%betsSPR-A']\n",
        "\n",
        "# Add binary flags for high and medium betting percentages\n",
        "BetData['HighBet-ML-H'] = (BetData['%betsML-H'] > .67).astype(int)\n",
        "BetData['HighBet-SPR-H'] = (BetData['%betsSPR-H'] > .67).astype(int)\n",
        "BetData['MidBet-ML-H'] = ((BetData['%betsML-H'] > .33) & (BetData['%betsML-H'] < .67)).astype(int)\n",
        "BetData['MidBet-SPR-H'] = ((BetData['%betsSPR-H'] > .33) & (BetData['%betsSPR-H'] < .67)).astype(int)\n",
        "\n"
      ],
      "metadata": {
        "id": "Gxnt4no5bpTs"
      },
      "execution_count": 22,
      "outputs": []
    },
    {
      "cell_type": "code",
      "source": [
        "from sklearn.ensemble import RandomForestClassifier\n",
        "from sklearn.model_selection import train_test_split, GridSearchCV\n",
        "from sklearn.metrics import accuracy_score\n",
        "\n",
        "# Split the dataset into features and target variable\n",
        "X = BetData[['MLodds-A', 'MLodds-H', 'SPRodds-A', 'SPRodds-H', 'SPRline', 'OUline']]\n",
        "y = BetData['Win-H']  # Target variable: whether the home team won\n",
        "\n",
        "# Split the data into training and test sets\n",
        "X_train, X_test, y_train, y_test = train_test_split(X, y, test_size=0.2, random_state=42)\n",
        "\n",
        "# Set up a Random Forest model with hyperparameter tuning\n",
        "param_grid = {\n",
        "    'n_estimators': [100, 200, 300],\n",
        "    'max_depth': [None, 10, 20, 30],\n",
        "    'min_samples_split': [2, 5, 10],\n",
        "    'min_samples_leaf': [1, 2, 4]\n",
        "}\n",
        "\n",
        "# Initialize the GridSearchCV object\n",
        "rf_model = RandomForestClassifier(random_state=42)\n",
        "grid_search = GridSearchCV(estimator=rf_model, param_grid=param_grid, cv=3, n_jobs=-1, verbose=2)\n",
        "\n",
        "# Train the model using GridSearchCV\n",
        "grid_search.fit(X_train, y_train)\n",
        "\n",
        "# Retrieve the best parameters and the best model\n",
        "best_rf_model = grid_search.best_estimator_\n",
        "\n",
        "# Make predictions on the test set\n",
        "y_pred = best_rf_model.predict(X_test)\n",
        "\n",
        "# Evaluate model performance\n",
        "accuracy = accuracy_score(y_test, y_pred)\n",
        "print(f\"Optimized Random Forest Model Accuracy: {accuracy:.2f}\")\n",
        "\n",
        "# Output the best parameters\n",
        "print(f\"Best Parameters: {grid_search.best_params_}\")"
      ],
      "metadata": {
        "colab": {
          "base_uri": "https://localhost:8080/"
        },
        "id": "Rzq8qQpYgyOz",
        "outputId": "f3b43769-b6b9-4622-c2de-80fd0af2be59"
      },
      "execution_count": 23,
      "outputs": [
        {
          "output_type": "stream",
          "name": "stdout",
          "text": [
            "Fitting 3 folds for each of 108 candidates, totalling 324 fits\n",
            "Optimized Random Forest Model Accuracy: 0.67\n",
            "Best Parameters: {'max_depth': None, 'min_samples_leaf': 1, 'min_samples_split': 2, 'n_estimators': 200}\n"
          ]
        }
      ]
    },
    {
      "cell_type": "code",
      "source": [
        "from sklearn.ensemble import RandomForestClassifier\n",
        "from sklearn.model_selection import train_test_split, RandomizedSearchCV\n",
        "from sklearn.metrics import accuracy_score, f1_score\n",
        "from sklearn.preprocessing import StandardScaler\n",
        "from imblearn.over_sampling import SMOTE\n",
        "\n",
        "# Define features and target variable\n",
        "X = BetData[['MLodds-A', 'MLodds-H', 'SPRodds-A', 'SPRodds-H', 'SPRline', 'OUline']]\n",
        "y = BetData['Win-H']\n",
        "\n",
        "# Feature engineering (adding interaction terms)\n",
        "X['SPRline_OUline'] = X['SPRline'] * X['OUline']\n",
        "\n",
        "# Train/test split\n",
        "X_train, X_test, y_train, y_test = train_test_split(X, y, test_size=0.2, random_state=42)\n",
        "\n",
        "# Handle class imbalance\n",
        "sm = SMOTE(random_state=42)\n",
        "X_train, y_train = sm.fit_resample(X_train, y_train)\n",
        "\n",
        "# Hyperparameter tuning with RandomizedSearchCV\n",
        "param_dist = {\n",
        "    'n_estimators': [100, 200, 500],\n",
        "    'max_depth': [None, 10, 20, 30],\n",
        "    'min_samples_split': [2, 5, 10],\n",
        "    'min_samples_leaf': [1, 2, 4],\n",
        "    'bootstrap': [True, False]\n",
        "}\n",
        "\n",
        "rf_model = RandomForestClassifier(random_state=42)\n",
        "random_search = RandomizedSearchCV(\n",
        "    estimator=rf_model,\n",
        "    param_distributions=param_dist,\n",
        "    n_iter=50,  # Number of parameter settings sampled\n",
        "    cv=3,  # 3-fold cross-validation\n",
        "    scoring='f1',  # Optimize for F1-score\n",
        "    n_jobs=-1,\n",
        "    random_state=42,\n",
        "    verbose=2\n",
        ")\n",
        "\n",
        "# Train the optimized model\n",
        "random_search.fit(X_train, y_train)\n",
        "\n",
        "# Best model and parameters\n",
        "best_rf_model = random_search.best_estimator_\n",
        "\n",
        "# Predictions\n",
        "y_pred = best_rf_model.predict(X_test)\n",
        "\n",
        "# Evaluate performance\n",
        "accuracy = accuracy_score(y_test, y_pred)\n",
        "f1 = f1_score(y_test, y_pred)\n",
        "\n",
        "print(f\"Improved Random Forest Model Accuracy: {accuracy:.2f}\")\n",
        "print(f\"Improved Random Forest Model F1-Score: {f1:.2f}\")\n",
        "print(f\"Best Parameters: {random_search.best_params_}\")"
      ],
      "metadata": {
        "colab": {
          "base_uri": "https://localhost:8080/"
        },
        "id": "QhvW2JWZeWs0",
        "outputId": "231109d1-568d-4dbf-8170-a6f309cc0e13"
      },
      "execution_count": 16,
      "outputs": [
        {
          "output_type": "stream",
          "name": "stderr",
          "text": [
            "<ipython-input-16-d0c1579db1f6>:12: SettingWithCopyWarning: \n",
            "A value is trying to be set on a copy of a slice from a DataFrame.\n",
            "Try using .loc[row_indexer,col_indexer] = value instead\n",
            "\n",
            "See the caveats in the documentation: https://pandas.pydata.org/pandas-docs/stable/user_guide/indexing.html#returning-a-view-versus-a-copy\n",
            "  X['SPRline_OUline'] = X['SPRline'] * X['OUline']\n"
          ]
        },
        {
          "output_type": "stream",
          "name": "stdout",
          "text": [
            "Fitting 3 folds for each of 50 candidates, totalling 150 fits\n",
            "Improved Random Forest Model Accuracy: 0.67\n",
            "Improved Random Forest Model F1-Score: 0.67\n",
            "Best Parameters: {'n_estimators': 200, 'min_samples_split': 2, 'min_samples_leaf': 1, 'max_depth': 30, 'bootstrap': False}\n"
          ]
        }
      ]
    }
  ]
}